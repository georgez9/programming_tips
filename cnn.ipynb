{
  "nbformat": 4,
  "nbformat_minor": 0,
  "metadata": {
    "colab": {
      "provenance": [],
      "authorship_tag": "ABX9TyMUcDOUWkES/7SlGX5cghnP",
      "include_colab_link": true
    },
    "kernelspec": {
      "name": "python3",
      "display_name": "Python 3"
    },
    "language_info": {
      "name": "python"
    }
  },
  "cells": [
    {
      "cell_type": "markdown",
      "metadata": {
        "id": "view-in-github",
        "colab_type": "text"
      },
      "source": [
        "<a href=\"https://colab.research.google.com/github/georgez9/programming_tips/blob/main/cnn.ipynb\" target=\"_parent\"><img src=\"https://colab.research.google.com/assets/colab-badge.svg\" alt=\"Open In Colab\"/></a>"
      ]
    },
    {
      "cell_type": "code",
      "source": [
        "# ! pip install d2l"
      ],
      "metadata": {
        "collapsed": true,
        "id": "999KTp8PtLy7"
      },
      "execution_count": 39,
      "outputs": []
    },
    {
      "cell_type": "code",
      "execution_count": 40,
      "metadata": {
        "id": "6AqTuSDIsQBj"
      },
      "outputs": [],
      "source": [
        "import torch\n",
        "from torch import nn\n",
        "# from d2l import torch as d2l"
      ]
    },
    {
      "cell_type": "markdown",
      "source": [
        "$(n_h-k_h+1) \\times (n_w-k_w+1)$\n"
      ],
      "metadata": {
        "id": "hsdBuaYivnZk"
      }
    },
    {
      "cell_type": "code",
      "source": [
        "def corr2d(X, K):\n",
        "  \"\"\" 计算二维互相关运算 \"\"\"\n",
        "  # X: 输入张量，K: 卷积核\n",
        "  h, w = K.shape\n",
        "  # 在二维互相关运算中，输出尺寸由输入和卷积核的尺寸决定\n",
        "  # 没有填充（padding）且步幅（stride）为 1 的情况下，输出尺寸计算公式为上述形式\n",
        "  Y = torch.zeros((X.shape[0] - h + 1, X.shape[1] - w + 1))\n",
        "  for i in range(Y.shape[0]):\n",
        "    for j in range(Y.shape[1]):\n",
        "      Y[i, j] = (X[i:i + h, j:j + w] * K).sum()\n",
        "  return Y"
      ],
      "metadata": {
        "id": "j-C7gdEqsbj6"
      },
      "execution_count": 41,
      "outputs": []
    },
    {
      "cell_type": "code",
      "source": [
        "class Conv2D(nn.Module):\n",
        "  \"\"\" 2D卷积层定义 \"\"\"\n",
        "  # nn.Module是所有神经网络的基类\n",
        "  def __init__(self, kernel_size):\n",
        "    super().__init__()  # 父类初始化\n",
        "    self.weight = nn.Parameter(torch.rand(kernel_size)) # 权重\n",
        "    self.bias = nn.Parameter(torch.zeros(1))  # 偏置项\n",
        "\n",
        "  def forward(self, x): # 二维互相关运算\n",
        "    return corr2d(x, self.weight) + self.bias"
      ],
      "metadata": {
        "id": "LbdKScF72ZXE"
      },
      "execution_count": 42,
      "outputs": []
    },
    {
      "cell_type": "markdown",
      "source": [
        "## 实例：边缘检测"
      ],
      "metadata": {
        "id": "s75E8fym6rEl"
      }
    },
    {
      "cell_type": "code",
      "source": [
        "X = torch.ones((6, 8))\n",
        "X[:, 2:6] = 0\n",
        "X"
      ],
      "metadata": {
        "colab": {
          "base_uri": "https://localhost:8080/"
        },
        "id": "sRm2jdsf6uuc",
        "outputId": "ab838b84-cdc6-4b15-86bb-63a9770c2c67"
      },
      "execution_count": 43,
      "outputs": [
        {
          "output_type": "execute_result",
          "data": {
            "text/plain": [
              "tensor([[1., 1., 0., 0., 0., 0., 1., 1.],\n",
              "        [1., 1., 0., 0., 0., 0., 1., 1.],\n",
              "        [1., 1., 0., 0., 0., 0., 1., 1.],\n",
              "        [1., 1., 0., 0., 0., 0., 1., 1.],\n",
              "        [1., 1., 0., 0., 0., 0., 1., 1.],\n",
              "        [1., 1., 0., 0., 0., 0., 1., 1.]])"
            ]
          },
          "metadata": {},
          "execution_count": 43
        }
      ]
    },
    {
      "cell_type": "code",
      "source": [
        "# 当进行互相关运算时，如果水平相邻的两元素相同，则输出为零，否则输出为非零\n",
        "K = torch.tensor([[1.0, -1.0]])"
      ],
      "metadata": {
        "id": "wurs6yUX6xtl"
      },
      "execution_count": 44,
      "outputs": []
    },
    {
      "cell_type": "code",
      "source": [
        "Y = corr2d(X, K)\n",
        "Y"
      ],
      "metadata": {
        "colab": {
          "base_uri": "https://localhost:8080/"
        },
        "id": "zBbZ2cpm7I9-",
        "outputId": "da265704-bc45-429c-aec0-65838b145ba6"
      },
      "execution_count": 45,
      "outputs": [
        {
          "output_type": "execute_result",
          "data": {
            "text/plain": [
              "tensor([[ 0.,  1.,  0.,  0.,  0., -1.,  0.],\n",
              "        [ 0.,  1.,  0.,  0.,  0., -1.,  0.],\n",
              "        [ 0.,  1.,  0.,  0.,  0., -1.,  0.],\n",
              "        [ 0.,  1.,  0.,  0.,  0., -1.,  0.],\n",
              "        [ 0.,  1.,  0.,  0.,  0., -1.,  0.],\n",
              "        [ 0.,  1.,  0.,  0.,  0., -1.,  0.]])"
            ]
          },
          "metadata": {},
          "execution_count": 45
        }
      ]
    },
    {
      "cell_type": "markdown",
      "source": [
        "若要检查水平边缘，需要转置"
      ],
      "metadata": {
        "id": "LLI2rXHz7q6i"
      }
    },
    {
      "cell_type": "code",
      "source": [
        "corr2d(X.t(), K)"
      ],
      "metadata": {
        "colab": {
          "base_uri": "https://localhost:8080/"
        },
        "id": "g7byNxDi7wo1",
        "outputId": "d7f56698-7d54-4ea1-cab1-ebc4369dfa81"
      },
      "execution_count": 46,
      "outputs": [
        {
          "output_type": "execute_result",
          "data": {
            "text/plain": [
              "tensor([[0., 0., 0., 0., 0.],\n",
              "        [0., 0., 0., 0., 0.],\n",
              "        [0., 0., 0., 0., 0.],\n",
              "        [0., 0., 0., 0., 0.],\n",
              "        [0., 0., 0., 0., 0.],\n",
              "        [0., 0., 0., 0., 0.],\n",
              "        [0., 0., 0., 0., 0.],\n",
              "        [0., 0., 0., 0., 0.]])"
            ]
          },
          "metadata": {},
          "execution_count": 46
        }
      ]
    },
    {
      "cell_type": "markdown",
      "source": [
        "## 如何自动查找一个卷积核"
      ],
      "metadata": {
        "id": "MjKllTF_-lyk"
      }
    },
    {
      "cell_type": "code",
      "source": [
        "# 构造一个二维卷积层，它具有1个输出通道和形状为（1，2）的卷积核\n",
        "# in_channels=1, out_channels=1\n",
        "conv2d = nn.Conv2d(1,1, kernel_size=(1, 2), bias=False)\n",
        "\n",
        "# 这个二维卷积层使用四维输入和输出格式（批量大小、通道、高度、宽度），\n",
        "# 其中批量大小和通道数都为1\n",
        "X = X.reshape((1, 1, 6, 8))\n",
        "Y = Y.reshape((1, 1, 6, 7))\n",
        "lr = 3e-2  # 学习率，决定参数更新步长\n",
        "\n",
        "for i in range(10):\n",
        "    Y_hat = conv2d(X)\n",
        "    # 计算预测输出与目标输出之间的均方误差（MSE），l为损失张量\n",
        "    l = (Y_hat - Y) ** 2\n",
        "    # 每次反向传播之前，需要将之前的梯度清零\n",
        "    conv2d.zero_grad()\n",
        "    # 将损失张量的所有元素求和，得到一个标量损失值，\n",
        "    # 对标量损失进行反向传播，以计算损失对卷积层参数的梯度\n",
        "    # 这一步是自动计算参数的梯度，并存储在conv2d.weight.grad中\n",
        "    l.sum().backward()\n",
        "    # 迭代卷积核\n",
        "    # 梯度下降公式：new_weight=old_weight−learning_rate×gradient\n",
        "    conv2d.weight.data[:] -= lr * conv2d.weight.grad\n",
        "    # 每隔 2 个迭代（即第 2、4、6、8、10 次迭代）输出一次日志\n",
        "    if (i + 1) % 2 == 0:\n",
        "        print(f'epoch {i+1}, loss {l.sum():.3f}')"
      ],
      "metadata": {
        "colab": {
          "base_uri": "https://localhost:8080/"
        },
        "id": "kCJLdLPw-ptx",
        "outputId": "f66829c3-8df3-406d-ef50-324ecd4c253d"
      },
      "execution_count": 47,
      "outputs": [
        {
          "output_type": "stream",
          "name": "stdout",
          "text": [
            "epoch 2, loss 11.767\n",
            "epoch 4, loss 3.108\n",
            "epoch 6, loss 0.986\n",
            "epoch 8, loss 0.356\n",
            "epoch 10, loss 0.138\n"
          ]
        }
      ]
    },
    {
      "cell_type": "markdown",
      "source": [
        "结果："
      ],
      "metadata": {
        "id": "p1eA5aH8O7iD"
      }
    },
    {
      "cell_type": "code",
      "source": [
        "conv2d.weight.data.reshape((1, 2))"
      ],
      "metadata": {
        "colab": {
          "base_uri": "https://localhost:8080/"
        },
        "id": "09NzqcZaN72E",
        "outputId": "0ae2a69b-2772-4e8a-d9d7-6a1ddd571aba"
      },
      "execution_count": 48,
      "outputs": [
        {
          "output_type": "execute_result",
          "data": {
            "text/plain": [
              "tensor([[ 1.0237, -0.9486]])"
            ]
          },
          "metadata": {},
          "execution_count": 48
        }
      ]
    }
  ]
}