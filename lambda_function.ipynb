{
  "nbformat": 4,
  "nbformat_minor": 0,
  "metadata": {
    "colab": {
      "provenance": [],
      "authorship_tag": "ABX9TyPC1Oj+FKdWZCe1C8OSbQcp",
      "include_colab_link": true
    },
    "kernelspec": {
      "name": "python3",
      "display_name": "Python 3"
    },
    "language_info": {
      "name": "python"
    }
  },
  "cells": [
    {
      "cell_type": "markdown",
      "metadata": {
        "id": "view-in-github",
        "colab_type": "text"
      },
      "source": [
        "<a href=\"https://colab.research.google.com/github/georgez9/programming_tips/blob/main/lambda_function.ipynb\" target=\"_parent\"><img src=\"https://colab.research.google.com/assets/colab-badge.svg\" alt=\"Open In Colab\"/></a>"
      ]
    },
    {
      "cell_type": "markdown",
      "source": [
        "# 常见 lambda 表达式应用"
      ],
      "metadata": {
        "id": "1lalVXcHMV6i"
      }
    },
    {
      "cell_type": "markdown",
      "source": [
        "1. 函数替代\n",
        "\n"
      ],
      "metadata": {
        "id": "0wot3CW_Mlpb"
      }
    },
    {
      "cell_type": "code",
      "source": [
        "a = lambda x, y: x+y\n",
        "result = a(5, 13)\n",
        "print(result)"
      ],
      "metadata": {
        "colab": {
          "base_uri": "https://localhost:8080/"
        },
        "id": "QUeRY-leCWLG",
        "outputId": "ddb73931-9a92-4fc0-934a-ece052b1689f"
      },
      "execution_count": 25,
      "outputs": [
        {
          "output_type": "stream",
          "name": "stdout",
          "text": [
            "18\n"
          ]
        }
      ]
    },
    {
      "cell_type": "markdown",
      "source": [
        "2. 数组遍历（配合`map`）"
      ],
      "metadata": {
        "id": "6tBtI5svMkbZ"
      }
    },
    {
      "cell_type": "code",
      "source": [
        "b = [9, 4, 2, 1, 3]\n",
        "c = list(map(lambda x: x+2, b))\n",
        "print(c)"
      ],
      "metadata": {
        "colab": {
          "base_uri": "https://localhost:8080/"
        },
        "id": "RNxi4n2dGzS5",
        "outputId": "561cbb74-de04-46e9-cc5c-91d96c15ede9"
      },
      "execution_count": 26,
      "outputs": [
        {
          "output_type": "stream",
          "name": "stdout",
          "text": [
            "[11, 6, 4, 3, 5]\n"
          ]
        }
      ]
    },
    {
      "cell_type": "markdown",
      "source": [
        "3. 数组过滤（配合`filter`）"
      ],
      "metadata": {
        "id": "YFyXrHtFM77J"
      }
    },
    {
      "cell_type": "code",
      "source": [
        "d = list(filter(lambda x: x%2==1, b))\n",
        "print(d)"
      ],
      "metadata": {
        "colab": {
          "base_uri": "https://localhost:8080/"
        },
        "id": "WlsT24EhHMPf",
        "outputId": "fdbb26fa-dbb9-49d3-8932-ba69b4866631"
      },
      "execution_count": 27,
      "outputs": [
        {
          "output_type": "stream",
          "name": "stdout",
          "text": [
            "[9, 1, 3]\n"
          ]
        }
      ]
    },
    {
      "cell_type": "markdown",
      "source": [
        "4. 自定义排序规则（配合`sorted`）"
      ],
      "metadata": {
        "id": "pJxzMEgvNGJe"
      }
    },
    {
      "cell_type": "code",
      "source": [
        "e = ['apple', 'pear', 'watermelon', 'grapefruit', 'banana']\n",
        "f = sorted(e, key=lambda x: len(x))\n",
        "print(f)"
      ],
      "metadata": {
        "colab": {
          "base_uri": "https://localhost:8080/"
        },
        "id": "FWZPFwvJHi8X",
        "outputId": "a9c57f31-2ba0-44e4-d434-da8dfa9046f7"
      },
      "execution_count": 28,
      "outputs": [
        {
          "output_type": "stream",
          "name": "stdout",
          "text": [
            "['pear', 'apple', 'banana', 'watermelon', 'grapefruit']\n"
          ]
        }
      ]
    },
    {
      "cell_type": "markdown",
      "source": [
        "5. 累计计算及字符串拼接（配合`reduce`）"
      ],
      "metadata": {
        "id": "b-SI6JNyNOSA"
      }
    },
    {
      "cell_type": "code",
      "source": [
        "from functools import reduce\n",
        "\n",
        "g = reduce(lambda x, y: x+'-'+y, e)\n",
        "print(g)\n",
        "h = reduce(lambda x, y: x+y, b)\n",
        "print(h)"
      ],
      "metadata": {
        "colab": {
          "base_uri": "https://localhost:8080/"
        },
        "id": "OpZxvkoQJnrW",
        "outputId": "8f03d156-0b12-4f71-caa3-d3f56f020cdd"
      },
      "execution_count": 29,
      "outputs": [
        {
          "output_type": "stream",
          "name": "stdout",
          "text": [
            "apple-pear-watermelon-grapefruit-banana\n",
            "19\n"
          ]
        }
      ]
    },
    {
      "cell_type": "markdown",
      "source": [
        "6. 带条件格式的自定义函数"
      ],
      "metadata": {
        "id": "sR6oNFDBNZ7a"
      }
    },
    {
      "cell_type": "code",
      "source": [
        "cmp_func = lambda x, y: x if x>y else y\n",
        "print(cmp_func(8, 2))\n",
        "print(cmp_func(4, 7))"
      ],
      "metadata": {
        "colab": {
          "base_uri": "https://localhost:8080/"
        },
        "id": "WgKUUrHWLnRF",
        "outputId": "8a061f05-d3dc-4bd3-8084-cb1504cf2ed9"
      },
      "execution_count": 30,
      "outputs": [
        {
          "output_type": "stream",
          "name": "stdout",
          "text": [
            "8\n",
            "7\n"
          ]
        }
      ]
    },
    {
      "cell_type": "markdown",
      "source": [
        "7. 字典操作（简易计算器）"
      ],
      "metadata": {
        "id": "h8pO58LmNr2Y"
      }
    },
    {
      "cell_type": "code",
      "source": [
        "operations = {\n",
        "    'add': lambda x, y: x + y,\n",
        "    'sub': lambda x, y: x - y,\n",
        "    'mul': lambda x, y: x * y,\n",
        "    'div': lambda x, y: x / y if y != 0 else None\n",
        "}\n",
        "result = operations['mul'](10, 5)\n",
        "print(result)"
      ],
      "metadata": {
        "colab": {
          "base_uri": "https://localhost:8080/"
        },
        "id": "fA_BOHfGL9ZI",
        "outputId": "01a1f515-1e9c-4933-c225-247bec8fe55f"
      },
      "execution_count": 31,
      "outputs": [
        {
          "output_type": "stream",
          "name": "stdout",
          "text": [
            "50\n"
          ]
        }
      ]
    },
    {
      "cell_type": "markdown",
      "source": [
        "8. 根据属性排序表格"
      ],
      "metadata": {
        "id": "j6PXlhc7N1yM"
      }
    },
    {
      "cell_type": "code",
      "source": [
        "students = [\n",
        "    {'name': 'Alice', 'score': 88},\n",
        "    {'name': 'Bob', 'score': 75},\n",
        "    {'name': 'Charlie', 'score': 95}\n",
        "]\n",
        "sorted_students = sorted(students, key=lambda x: x['score'], reverse=True)\n",
        "print(sorted_students)"
      ],
      "metadata": {
        "colab": {
          "base_uri": "https://localhost:8080/"
        },
        "id": "Ig-B40LIMOUu",
        "outputId": "cf8f3e35-836c-4b10-fcc6-e1e43269e70c"
      },
      "execution_count": 32,
      "outputs": [
        {
          "output_type": "stream",
          "name": "stdout",
          "text": [
            "[{'name': 'Charlie', 'score': 95}, {'name': 'Alice', 'score': 88}, {'name': 'Bob', 'score': 75}]\n"
          ]
        }
      ]
    }
  ]
}